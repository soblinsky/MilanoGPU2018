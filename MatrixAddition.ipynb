{
 "cells": [
  {
   "cell_type": "markdown",
   "metadata": {},
   "source": [
    "# License\n",
    "\n",
    "    Jupyter notebook for accessing CUDA\n",
    "    Copyright (C) 2018 Andre.Brodtkorb@ifi.uio.no\n",
    "\n",
    "    This program is free software: you can redistribute it and/or modify\n",
    "    it under the terms of the GNU General Public License as published by\n",
    "    the Free Software Foundation, either version 3 of the License, or\n",
    "    (at your option) any later version.\n",
    "\n",
    "    This program is distributed in the hope that it will be useful,\n",
    "    but WITHOUT ANY WARRANTY; without even the implied warranty of\n",
    "    MERCHANTABILITY or FITNESS FOR A PARTICULAR PURPOSE.  See the\n",
    "    GNU General Public License for more details.\n",
    "\n",
    "    You should have received a copy of the GNU General Public License\n",
    "    along with this program.  If not, see <http://www.gnu.org/licenses/>."
   ]
  },
  {
   "cell_type": "code",
   "execution_count": 1,
   "metadata": {},
   "outputs": [],
   "source": [
    "#Lets have matplotlib \"inline\"\n",
    "%matplotlib inline\n",
    "\n",
    "#Import packages we need\n",
    "import numpy as np\n",
    "import pycuda.compiler as cuda_compiler\n",
    "from pycuda.gpuarray import GPUArray\n",
    "import pycuda.driver as cuda_driver\n",
    "\n",
    "from matplotlib import pyplot as plt"
   ]
  },
  {
   "cell_type": "code",
   "execution_count": 2,
   "metadata": {},
   "outputs": [],
   "source": [
    "#Initialize CUDA - must be first call to CUDA!\n",
    "cuda_driver.init()"
   ]
  },
  {
   "cell_type": "code",
   "execution_count": 10,
   "metadata": {},
   "outputs": [
    {
     "name": "stdout",
     "output_type": "stream",
     "text": [
      "Using 'Tesla K80'\n",
      " => compute capability: (3, 7)\n",
      " => memory: 9913 / 11441 MB available\n"
     ]
    }
   ],
   "source": [
    "#Create CUDA context\n",
    "cuda_device = cuda_driver.Device(0)\n",
    "print(\"Using '{:s}'\".format(cuda_device.name()))\n",
    "print(\" => compute capability: {:s}\".format(str(cuda_device.compute_capability())))\n",
    "context = cuda_device.make_context()\n",
    "free, total = cuda_driver.mem_get_info()\n",
    "print(\" => memory: {:d} / {:d} MB available\".format(int(free/(1024*1024)), int(total/(1024*1024))))"
   ]
  },
  {
   "cell_type": "code",
   "execution_count": 34,
   "metadata": {},
   "outputs": [],
   "source": [
    "cuda_kernel = \"\"\"\n",
    "__global__ void addVectorKernel(float* c, float* a, float* b) {\n",
    "    unsigned int i = blockIdx.x*blockDim.x + threadIdx.x;\n",
    "    \n",
    "    c[i] = a[i] + b[i];\n",
    "}\n",
    "\n",
    "__global__ void addMatrixKernel (float *c, float *a, float *b, int cols)\n",
    "{\n",
    "    unsigned int i = blockIdx.x * blockDim.x + threadIdx.x;\n",
    "    unsigned int j = blockIdx.y * blockDim.y + threadIdx.y;\n",
    "    unsigned int k = i * cols + j;\n",
    "    c[k] = a[k] + b[k]; \n",
    "}\n",
    "\"\"\"\n",
    "module = cuda_compiler.SourceModule(cuda_kernel)\n",
    "kernel = module.get_function(\"addMatrixKernel\")"
   ]
  },
  {
   "cell_type": "code",
   "execution_count": 35,
   "metadata": {},
   "outputs": [
    {
     "data": {
      "text/plain": [
       "<matplotlib.colorbar.Colorbar at 0x7f61e8a4a2e8>"
      ]
     },
     "execution_count": 35,
     "metadata": {},
     "output_type": "execute_result"
    },
    {
     "data": {
      "image/png": "[encoded data removed]",
      "text/plain": [
       "<matplotlib.figure.Figure at 0x7f61e8bf0828>"
      ]
     },
     "metadata": {
      "needs_background": "light"
     },
     "output_type": "display_data"
    }
   ],
   "source": [
    "#Size of our test\n",
    "test_size = (16, 24)\n",
    "\n",
    "#Create test input / output data\n",
    "a = np.random.random(test_size).astype(np.float32)\n",
    "b = np.random.random(test_size).astype(np.float32)\n",
    "c = np.empty_like(a)\n",
    "\n",
    "fig = plt.figure(figsize=(12, 8))\n",
    "plt.imshow(a)\n",
    "plt.colorbar()"
   ]
  },
  {
   "cell_type": "code",
   "execution_count": 50,
   "metadata": {},
   "outputs": [
    {
     "name": "stdout",
     "output_type": "stream",
     "text": [
      "(24, 16)\n",
      "(8, 8, 1)\n",
      "(3, 2, 1)\n",
      "16\n"
     ]
    }
   ],
   "source": [
    "#Upload data to the device\n",
    "a_g = GPUArray(a.shape, np.float32)\n",
    "b_g = GPUArray(b.shape, np.float32)\n",
    "a_g.set(a)\n",
    "b_g.set(b)\n",
    "\n",
    "#Allocate output data\n",
    "c_g = GPUArray(c.shape, np.float32)\n",
    "\n",
    "domain_size = (a.shape[1], a.shape[0])\n",
    "block_size = (8, 8, 1)\n",
    "grid_size = (domain_size[0]//block_size[0], domain_size[1]//block_size[1], 1)\n",
    "cols = a.shape[0]\n",
    "\n",
    "print(domain_size)\n",
    "print(block_size)\n",
    "print(grid_size)\n",
    "print(cols)"
   ]
  },
  {
   "cell_type": "code",
   "execution_count": 51,
   "metadata": {},
   "outputs": [
    {
     "data": {
      "text/plain": [
       "array([[0.61602485, 0.5174314 , 1.0868479 , 0.6577917 , 0.5533465 ,\n",
       "        0.9700928 , 0.34828126, 1.0556675 , 1.0830595 , 0.95298994,\n",
       "        1.3376565 , 1.0147327 , 1.1835006 , 0.27501073, 1.4492338 ,\n",
       "        1.0428112 , 0.22811013, 0.73472303, 1.1508024 , 1.1881907 ,\n",
       "        0.8742614 , 1.350493  , 1.0063798 , 1.0383741 ],\n",
       "       [0.883043  , 1.1227876 , 0.4174173 , 0.7628869 , 0.97269636,\n",
       "        0.24104139, 1.0111315 , 1.4775896 , 0.80276597, 1.0565176 ,\n",
       "        1.1820503 , 1.2938508 , 1.6966854 , 0.9850567 , 0.8463645 ,\n",
       "        1.29859   , 0.743497  , 0.54026467, 0.5574157 , 1.234001  ,\n",
       "        0.8587727 , 0.5629158 , 1.3257258 , 0.98269117],\n",
       "       [1.0896237 , 0.99765253, 0.35571373, 1.6612515 , 0.59635556,\n",
       "        1.3667991 , 0.53844655, 1.5676129 , 1.2135307 , 1.4889644 ,\n",
       "        1.4630235 , 0.83043987, 1.4176385 , 1.2465644 , 1.6411847 ,\n",
       "        0.9744327 , 0.9543791 , 0.25363106, 1.063647  , 1.0919931 ,\n",
       "        0.86855745, 1.3979919 , 1.2965169 , 0.4539203 ],\n",
       "       [0.8373741 , 1.0291779 , 0.4623887 , 0.64259154, 0.40326992,\n",
       "        1.85813   , 1.3471801 , 1.1024214 , 0.7747101 , 0.6404281 ,\n",
       "        0.57490885, 1.6582139 , 0.58862996, 1.6669315 , 1.624382  ,\n",
       "        1.6146929 , 0.818845  , 1.0084817 , 1.2797469 , 0.82149947,\n",
       "        1.7703182 , 1.485837  , 0.6786846 , 0.8777082 ],\n",
       "       [0.7487528 , 1.6457329 , 0.49880657, 0.87050474, 1.3167388 ,\n",
       "        0.7358292 , 1.6618834 , 0.836643  , 0.86918956, 1.4103943 ,\n",
       "        0.14325517, 1.30622   , 0.35288766, 0.18459992, 0.5224896 ,\n",
       "        1.5739688 , 1.0461961 , 1.5669867 , 0.7170277 , 1.1510048 ,\n",
       "        0.82556915, 1.1189045 , 1.0164094 , 0.28835735],\n",
       "       [1.1171818 , 0.38414013, 0.16644453, 0.9380852 , 0.8977189 ,\n",
       "        1.1118711 , 1.3542309 , 0.6449475 , 0.35621688, 0.8980453 ,\n",
       "        0.9481827 , 0.91579247, 0.6432214 , 1.2083964 , 0.88893145,\n",
       "        0.57215667, 0.3690169 , 0.6012304 , 1.5543661 , 1.3779194 ,\n",
       "        0.8578009 , 1.2249202 , 1.7208067 , 0.5152978 ],\n",
       "       [0.95427597, 1.3597659 , 0.53286153, 1.0500355 , 0.96425027,\n",
       "        0.72407407, 0.47970718, 1.2766521 , 1.1234725 , 1.8586838 ,\n",
       "        1.0881015 , 1.1877012 , 0.56958   , 1.4135056 , 0.80273473,\n",
       "        1.4008965 , 1.2835982 , 1.0674795 , 0.38389683, 1.145858  ,\n",
       "        0.8246993 , 1.3908179 , 1.0079813 , 1.6658971 ],\n",
       "       [1.8243793 , 0.9937022 , 1.0497334 , 1.0980403 , 0.93625635,\n",
       "        1.0683811 , 1.1066537 , 0.9441467 , 1.4681091 , 1.421373  ,\n",
       "        1.6473284 , 0.9239837 , 0.50743777, 0.9643151 , 0.5135467 ,\n",
       "        0.9647112 , 1.0489292 , 0.68934184, 0.42491192, 0.63373685,\n",
       "        1.7698159 , 1.5069342 , 0.65111923, 0.729337  ],\n",
       "       [0.47223994, 1.1104085 , 1.3395426 , 1.6590774 , 0.1783516 ,\n",
       "        0.2014705 , 1.3946264 , 0.0534844 , 0.64530784, 1.1423603 ,\n",
       "        0.7427641 , 1.8489535 , 1.8130847 , 0.54186165, 1.2635689 ,\n",
       "        1.708169  , 1.0820892 , 1.2497215 , 0.9455221 , 0.39725786,\n",
       "        1.1891809 , 0.90432155, 1.3278157 , 0.89451313],\n",
       "       [1.3476477 , 0.64367676, 0.80540156, 0.8252982 , 1.1281887 ,\n",
       "        0.69548494, 0.6987014 , 0.7129452 , 0.8170303 , 0.70413065,\n",
       "        0.85909104, 1.1414343 , 0.6196168 , 0.93346894, 1.8139213 ,\n",
       "        1.491846  , 0.73030055, 1.6235701 , 1.0448532 , 1.1822091 ,\n",
       "        0.5937356 , 0.54090047, 0.43759522, 0.41566974],\n",
       "       [1.1501523 , 1.4107528 , 0.56579876, 1.17776   , 1.1177421 ,\n",
       "        1.5128706 , 1.2605829 , 0.8385805 , 0.6200443 , 0.98093295,\n",
       "        0.42450595, 1.2860514 , 1.6832356 , 1.0914446 , 0.67487895,\n",
       "        1.215867  , 1.1445175 , 1.254039  , 0.57162714, 0.7482925 ,\n",
       "        1.4243052 , 1.3234134 , 0.35496795, 0.8395763 ],\n",
       "       [0.8692088 , 0.27556992, 1.1904869 , 1.7848328 , 0.87165046,\n",
       "        0.87979525, 1.0854707 , 1.4434191 , 0.47495404, 0.08829805,\n",
       "        0.8429107 , 1.1951696 , 1.182125  , 1.8193637 , 0.7515569 ,\n",
       "        0.8690913 , 0.52851826, 0.51046824, 0.8128603 , 1.4060024 ,\n",
       "        0.74966687, 0.8414736 , 1.428861  , 0.7979405 ],\n",
       "       [0.4417898 , 1.0133862 , 1.0238079 , 0.973094  , 0.13109066,\n",
       "        1.4914973 , 0.5562545 , 0.11142592, 1.2347298 , 0.9717222 ,\n",
       "        1.0097382 , 0.39066604, 1.3193961 , 0.9567828 , 0.4555514 ,\n",
       "        0.81461966, 0.9578042 , 0.46110883, 1.523713  , 0.36627862,\n",
       "        1.0976287 , 1.1839654 , 0.8892911 , 0.8907902 ],\n",
       "       [1.3041896 , 0.6575345 , 0.26099822, 1.037281  , 0.23368846,\n",
       "        1.0458806 , 1.5480571 , 0.9629822 , 0.50873303, 1.7518073 ,\n",
       "        0.9486017 , 1.2348499 , 0.68375754, 1.4582127 , 1.5804133 ,\n",
       "        1.6993756 , 1.0383565 , 0.66685206, 0.9561213 , 0.19064206,\n",
       "        1.5855527 , 1.1987767 , 0.97665393, 0.8784932 ],\n",
       "       [0.9206393 , 0.8204637 , 1.1393785 , 1.1218787 , 1.6362273 ,\n",
       "        1.2171321 , 0.7291403 , 1.0723362 , 0.8779695 , 0.8547857 ,\n",
       "        0.708371  , 0.9046893 , 1.5860573 , 0.61575174, 1.2071574 ,\n",
       "        0.9260347 , 1.3600872 , 1.2041075 , 1.4189806 , 0.47713038,\n",
       "        1.088656  , 0.69585466, 1.0151138 , 0.82861626],\n",
       "       [0.59794056, 0.5217744 , 1.3839068 , 1.3783699 , 0.6625196 ,\n",
       "        0.7733257 , 0.3721489 , 0.566462  , 1.2122076 , 1.0956857 ,\n",
       "        1.2926822 , 1.350024  , 1.5203762 , 1.099118  , 0.851455  ,\n",
       "        0.7024837 , 0.39593983, 1.5726118 , 0.4250453 , 1.5202703 ,\n",
       "        1.1884847 , 1.0366137 , 0.2867318 , 1.2259932 ]], dtype=float32)"
      ]
     },
     "execution_count": 51,
     "metadata": {},
     "output_type": "execute_result"
    }
   ],
   "source": [
    "#Execute program on device\n",
    "kernel(c_g, a_g, b_g, np.int32(cols),  block=block_size, grid=grid_size)\n",
    "\n",
    "#Copy data from device to host\n",
    "c_g.get(c)"
   ]
  },
  {
   "cell_type": "code",
   "execution_count": 52,
   "metadata": {},
   "outputs": [
    {
     "name": "stdout",
     "output_type": "stream",
     "text": [
      "C   =  [[0.61602485 0.5174314  1.0868479  0.6577917  0.5533465  0.9700928\n",
      "  0.34828126 1.0556675  1.0830595  0.95298994 1.3376565  1.0147327\n",
      "  1.1835006  0.27501073 1.4492338  1.0428112  0.22811013 0.73472303\n",
      "  1.1508024  1.1881907  0.8742614  1.350493   1.0063798  1.0383741 ]\n",
      " [0.883043   1.1227876  0.4174173  0.7628869  0.97269636 0.24104139\n",
      "  1.0111315  1.4775896  0.80276597 1.0565176  1.1820503  1.2938508\n",
      "  1.6966854  0.9850567  0.8463645  1.29859    0.743497   0.54026467\n",
      "  0.5574157  1.234001   0.8587727  0.5629158  1.3257258  0.98269117]\n",
      " [1.0896237  0.99765253 0.35571373 1.6612515  0.59635556 1.3667991\n",
      "  0.53844655 1.5676129  1.2135307  1.4889644  1.4630235  0.83043987\n",
      "  1.4176385  1.2465644  1.6411847  0.9744327  0.9543791  0.25363106\n",
      "  1.063647   1.0919931  0.86855745 1.3979919  1.2965169  0.4539203 ]\n",
      " [0.8373741  1.0291779  0.4623887  0.64259154 0.40326992 1.85813\n",
      "  1.3471801  1.1024214  0.7747101  0.6404281  0.57490885 1.6582139\n",
      "  0.58862996 1.6669315  1.624382   1.6146929  0.818845   1.0084817\n",
      "  1.2797469  0.82149947 1.7703182  1.485837   0.6786846  0.8777082 ]\n",
      " [0.7487528  1.6457329  0.49880657 0.87050474 1.3167388  0.7358292\n",
      "  1.6618834  0.836643   0.86918956 1.4103943  0.14325517 1.30622\n",
      "  0.35288766 0.18459992 0.5224896  1.5739688  1.0461961  1.5669867\n",
      "  0.7170277  1.1510048  0.82556915 1.1189045  1.0164094  0.28835735]\n",
      " [1.1171818  0.38414013 0.16644453 0.9380852  0.8977189  1.1118711\n",
      "  1.3542309  0.6449475  0.35621688 0.8980453  0.9481827  0.91579247\n",
      "  0.6432214  1.2083964  0.88893145 0.57215667 0.3690169  0.6012304\n",
      "  1.5543661  1.3779194  0.8578009  1.2249202  1.7208067  0.5152978 ]\n",
      " [0.95427597 1.3597659  0.53286153 1.0500355  0.96425027 0.72407407\n",
      "  0.47970718 1.2766521  1.1234725  1.8586838  1.0881015  1.1877012\n",
      "  0.56958    1.4135056  0.80273473 1.4008965  1.2835982  1.0674795\n",
      "  0.38389683 1.145858   0.8246993  1.3908179  1.0079813  1.6658971 ]\n",
      " [1.8243793  0.9937022  1.0497334  1.0980403  0.93625635 1.0683811\n",
      "  1.1066537  0.9441467  1.4681091  1.421373   1.6473284  0.9239837\n",
      "  0.50743777 0.9643151  0.5135467  0.9647112  1.0489292  0.68934184\n",
      "  0.42491192 0.63373685 1.7698159  1.5069342  0.65111923 0.729337  ]\n",
      " [0.47223994 1.1104085  1.3395426  1.6590774  0.1783516  0.2014705\n",
      "  1.3946264  0.0534844  0.64530784 1.1423603  0.7427641  1.8489535\n",
      "  1.8130847  0.54186165 1.2635689  1.708169   1.0820892  1.2497215\n",
      "  0.9455221  0.39725786 1.1891809  0.90432155 1.3278157  0.89451313]\n",
      " [1.3476477  0.64367676 0.80540156 0.8252982  1.1281887  0.69548494\n",
      "  0.6987014  0.7129452  0.8170303  0.70413065 0.85909104 1.1414343\n",
      "  0.6196168  0.93346894 1.8139213  1.491846   0.73030055 1.6235701\n",
      "  1.0448532  1.1822091  0.5937356  0.54090047 0.43759522 0.41566974]\n",
      " [1.1501523  1.4107528  0.56579876 1.17776    1.1177421  1.5128706\n",
      "  1.2605829  0.8385805  0.6200443  0.98093295 0.42450595 1.2860514\n",
      "  1.6832356  1.0914446  0.67487895 1.215867   1.1445175  1.254039\n",
      "  0.57162714 0.7482925  1.4243052  1.3234134  0.35496795 0.8395763 ]\n",
      " [0.8692088  0.27556992 1.1904869  1.7848328  0.87165046 0.87979525\n",
      "  1.0854707  1.4434191  0.47495404 0.08829805 0.8429107  1.1951696\n",
      "  1.182125   1.8193637  0.7515569  0.8690913  0.52851826 0.51046824\n",
      "  0.8128603  1.4060024  0.74966687 0.8414736  1.428861   0.7979405 ]\n",
      " [0.4417898  1.0133862  1.0238079  0.973094   0.13109066 1.4914973\n",
      "  0.5562545  0.11142592 1.2347298  0.9717222  1.0097382  0.39066604\n",
      "  1.3193961  0.9567828  0.4555514  0.81461966 0.9578042  0.46110883\n",
      "  1.523713   0.36627862 1.0976287  1.1839654  0.8892911  0.8907902 ]\n",
      " [1.3041896  0.6575345  0.26099822 1.037281   0.23368846 1.0458806\n",
      "  1.5480571  0.9629822  0.50873303 1.7518073  0.9486017  1.2348499\n",
      "  0.68375754 1.4582127  1.5804133  1.6993756  1.0383565  0.66685206\n",
      "  0.9561213  0.19064206 1.5855527  1.1987767  0.97665393 0.8784932 ]\n",
      " [0.9206393  0.8204637  1.1393785  1.1218787  1.6362273  1.2171321\n",
      "  0.7291403  1.0723362  0.8779695  0.8547857  0.708371   0.9046893\n",
      "  1.5860573  0.61575174 1.2071574  0.9260347  1.3600872  1.2041075\n",
      "  1.4189806  0.47713038 1.088656   0.69585466 1.0151138  0.82861626]\n",
      " [0.59794056 0.5217744  1.3839068  1.3783699  0.6625196  0.7733257\n",
      "  0.3721489  0.566462   1.2122076  1.0956857  1.2926822  1.350024\n",
      "  1.5203762  1.099118   0.851455   0.7024837  0.39593983 1.5726118\n",
      "  0.4250453  1.5202703  1.1884847  1.0366137  0.2867318  1.2259932 ]]\n",
      "Ref =  [[0.61602485 0.5174314  1.0868479  0.6577917  0.5533465  0.9700928\n",
      "  0.34828126 1.0556675  1.0830595  0.95298994 1.3376565  1.0147327\n",
      "  1.1835006  0.27501073 1.4492338  1.0428112  0.22811013 0.73472303\n",
      "  1.1508024  1.1881907  0.8742614  1.350493   1.0063798  1.0383741 ]\n",
      " [0.883043   1.1227876  0.4174173  0.7628869  0.97269636 0.24104139\n",
      "  1.0111315  1.4775896  0.80276597 1.0565176  1.1820503  1.2938508\n",
      "  1.6966854  0.9850567  0.8463645  1.29859    0.743497   0.54026467\n",
      "  0.5574157  1.234001   0.8587727  0.5629158  1.3257258  0.98269117]\n",
      " [1.0896237  0.99765253 0.35571373 1.6612515  0.59635556 1.3667991\n",
      "  0.53844655 1.5676129  1.2135307  1.4889644  1.4630235  0.83043987\n",
      "  1.4176385  1.2465644  1.6411847  0.9744327  0.9543791  0.25363106\n",
      "  1.063647   1.0919931  0.86855745 1.3979919  1.2965169  0.4539203 ]\n",
      " [0.8373741  1.0291779  0.4623887  0.64259154 0.40326992 1.85813\n",
      "  1.3471801  1.1024214  0.7747101  0.6404281  0.57490885 1.6582139\n",
      "  0.58862996 1.6669315  1.624382   1.6146929  0.818845   1.0084817\n",
      "  1.2797469  0.82149947 1.7703182  1.485837   0.6786846  0.8777082 ]\n",
      " [0.7487528  1.6457329  0.49880657 0.87050474 1.3167388  0.7358292\n",
      "  1.6618834  0.836643   0.86918956 1.4103943  0.14325517 1.30622\n",
      "  0.35288766 0.18459992 0.5224896  1.5739688  1.0461961  1.5669867\n",
      "  0.7170277  1.1510048  0.82556915 1.1189045  1.0164094  0.28835735]\n",
      " [1.1171818  0.38414013 0.16644453 0.9380852  0.8977189  1.1118711\n",
      "  1.3542309  0.6449475  0.35621688 0.8980453  0.9481827  0.91579247\n",
      "  0.6432214  1.2083964  0.88893145 0.57215667 0.3690169  0.6012304\n",
      "  1.5543661  1.3779194  0.8578009  1.2249202  1.7208067  0.5152978 ]\n",
      " [0.95427597 1.3597659  0.53286153 1.0500355  0.96425027 0.72407407\n",
      "  0.47970718 1.2766521  1.1234725  1.8586838  1.0881015  1.1877012\n",
      "  0.56958    1.4135056  0.80273473 1.4008965  1.2835982  1.0674795\n",
      "  0.38389683 1.145858   0.8246993  1.3908179  1.0079813  1.6658971 ]\n",
      " [1.8243793  0.9937022  1.0497334  1.0980403  0.93625635 1.0683811\n",
      "  1.1066537  0.9441467  1.4681091  1.421373   1.6473284  0.9239837\n",
      "  0.50743777 0.9643151  0.5135467  0.9647112  1.0489292  0.68934184\n",
      "  0.42491192 0.63373685 1.7698159  1.5069342  0.65111923 0.729337  ]\n",
      " [0.47223994 1.1104085  1.3395426  1.6590774  0.1783516  0.2014705\n",
      "  1.3946264  0.0534844  0.64530784 1.1423603  0.7427641  1.8489535\n",
      "  1.8130847  0.54186165 1.2635689  1.708169   1.0820892  1.2497215\n",
      "  0.9455221  0.39725786 1.1891809  0.90432155 1.3278157  0.89451313]\n",
      " [1.3476477  0.64367676 0.80540156 0.8252982  1.1281887  0.69548494\n",
      "  0.6987014  0.7129452  0.8170303  0.70413065 0.85909104 1.1414343\n",
      "  0.6196168  0.93346894 1.8139213  1.491846   0.73030055 1.6235701\n",
      "  1.0448532  1.1822091  0.5937356  0.54090047 0.43759522 0.41566974]\n",
      " [1.1501523  1.4107528  0.56579876 1.17776    1.1177421  1.5128706\n",
      "  1.2605829  0.8385805  0.6200443  0.98093295 0.42450595 1.2860514\n",
      "  1.6832356  1.0914446  0.67487895 1.215867   1.1445175  1.254039\n",
      "  0.57162714 0.7482925  1.4243052  1.3234134  0.35496795 0.8395763 ]\n",
      " [0.8692088  0.27556992 1.1904869  1.7848328  0.87165046 0.87979525\n",
      "  1.0854707  1.4434191  0.47495404 0.08829805 0.8429107  1.1951696\n",
      "  1.182125   1.8193637  0.7515569  0.8690913  0.52851826 0.51046824\n",
      "  0.8128603  1.4060024  0.74966687 0.8414736  1.428861   0.7979405 ]\n",
      " [0.4417898  1.0133862  1.0238079  0.973094   0.13109066 1.4914973\n",
      "  0.5562545  0.11142592 1.2347298  0.9717222  1.0097382  0.39066604\n",
      "  1.3193961  0.9567828  0.4555514  0.81461966 0.9578042  0.46110883\n",
      "  1.523713   0.36627862 1.0976287  1.1839654  0.8892911  0.8907902 ]\n",
      " [1.3041896  0.6575345  0.26099822 1.037281   0.23368846 1.0458806\n",
      "  1.5480571  0.9629822  0.50873303 1.7518073  0.9486017  1.2348499\n",
      "  0.68375754 1.4582127  1.5804133  1.6993756  1.0383565  0.66685206\n",
      "  0.9561213  0.19064206 1.5855527  1.1987767  0.97665393 0.8784932 ]\n",
      " [0.9206393  0.8204637  1.1393785  1.1218787  1.6362273  1.2171321\n",
      "  0.7291403  1.0723362  0.8779695  0.8547857  0.708371   0.9046893\n",
      "  1.5860573  0.61575174 1.2071574  0.9260347  1.3600872  1.2041075\n",
      "  1.4189806  0.47713038 1.088656   0.69585466 1.0151138  0.82861626]\n",
      " [0.59794056 0.5217744  1.3839068  1.3783699  0.6625196  0.7733257\n",
      "  0.3721489  0.566462   1.2122076  1.0956857  1.2926822  1.350024\n",
      "  1.5203762  1.099118   0.851455   0.7024837  0.39593983 1.5726118\n",
      "  0.4250453  1.5202703  1.1884847  1.0366137  0.2867318  1.2259932 ]]\n",
      "Sad =  0.0\n"
     ]
    }
   ],
   "source": [
    "#Compute reference using Numpy\n",
    "c_ref = a + b\n",
    "\n",
    "#Print result\n",
    "print(\"C   = \", c)\n",
    "print(\"Ref = \", c_ref)\n",
    "print(\"Sad = \", np.sum(np.abs(c - c_ref)))"
   ]
  },
  {
   "cell_type": "code",
   "execution_count": 53,
   "metadata": {},
   "outputs": [
    {
     "data": {
      "text/plain": [
       "<matplotlib.image.AxesImage at 0x7f61e1f08d30>"
      ]
     },
     "execution_count": 53,
     "metadata": {},
     "output_type": "execute_result"
    },
    {
     "data": {
      "image/png": "[encoded data removed]",
      "text/plain": [
       "<matplotlib.figure.Figure at 0x7f61e8147550>"
      ]
     },
     "metadata": {
      "needs_background": "light"
     },
     "output_type": "display_data"
    }
   ],
   "source": [
    "plt.figure()\n",
    "plt.subplot(1,2,1)\n",
    "plt.imshow(c)\n",
    "plt.subplot(1,2,2)\n",
    "plt.imshow(c_ref)"
   ]
  },
  {
   "cell_type": "code",
   "execution_count": null,
   "metadata": {},
   "outputs": [],
   "source": []
  }
 ],
 "metadata": {
  "kernelspec": {
   "display_name": "Python 3",
   "language": "python",
   "name": "python3"
  },
  "language_info": {
   "codemirror_mode": {
    "name": "ipython",
    "version": 3
   },
   "file_extension": ".py",
   "mimetype": "text/x-python",
   "name": "python",
   "nbconvert_exporter": "python",
   "pygments_lexer": "ipython3",
   "version": "3.6.6"
  }
 },
 "nbformat": 4,
 "nbformat_minor": 2
}
